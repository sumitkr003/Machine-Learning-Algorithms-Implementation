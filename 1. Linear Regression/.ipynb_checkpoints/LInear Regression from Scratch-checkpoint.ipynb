{
 "cells": [
  {
   "cell_type": "code",
   "execution_count": 1,
   "metadata": {},
   "outputs": [],
   "source": [
    "import numpy as np\n",
    "import pandas as pd\n",
    "import matplotlib.pyplot as plt\n",
    "\n",
    "%matplotlib inline"
   ]
  },
  {
   "cell_type": "code",
   "execution_count": 2,
   "metadata": {},
   "outputs": [
    {
     "data": {
      "text/html": [
       "<div>\n",
       "<style scoped>\n",
       "    .dataframe tbody tr th:only-of-type {\n",
       "        vertical-align: middle;\n",
       "    }\n",
       "\n",
       "    .dataframe tbody tr th {\n",
       "        vertical-align: top;\n",
       "    }\n",
       "\n",
       "    .dataframe thead th {\n",
       "        text-align: right;\n",
       "    }\n",
       "</style>\n",
       "<table border=\"1\" class=\"dataframe\">\n",
       "  <thead>\n",
       "    <tr style=\"text-align: right;\">\n",
       "      <th></th>\n",
       "      <th>32.502345269453031</th>\n",
       "      <th>31.70700584656992</th>\n",
       "    </tr>\n",
       "  </thead>\n",
       "  <tbody>\n",
       "    <tr>\n",
       "      <th>0</th>\n",
       "      <td>53.426804</td>\n",
       "      <td>68.777596</td>\n",
       "    </tr>\n",
       "    <tr>\n",
       "      <th>1</th>\n",
       "      <td>61.530358</td>\n",
       "      <td>62.562382</td>\n",
       "    </tr>\n",
       "    <tr>\n",
       "      <th>2</th>\n",
       "      <td>47.475640</td>\n",
       "      <td>71.546632</td>\n",
       "    </tr>\n",
       "    <tr>\n",
       "      <th>3</th>\n",
       "      <td>59.813208</td>\n",
       "      <td>87.230925</td>\n",
       "    </tr>\n",
       "    <tr>\n",
       "      <th>4</th>\n",
       "      <td>55.142188</td>\n",
       "      <td>78.211518</td>\n",
       "    </tr>\n",
       "  </tbody>\n",
       "</table>\n",
       "</div>"
      ],
      "text/plain": [
       "   32.502345269453031  31.70700584656992\n",
       "0           53.426804          68.777596\n",
       "1           61.530358          62.562382\n",
       "2           47.475640          71.546632\n",
       "3           59.813208          87.230925\n",
       "4           55.142188          78.211518"
      ]
     },
     "execution_count": 2,
     "metadata": {},
     "output_type": "execute_result"
    }
   ],
   "source": [
    "dataset = pd.read_csv('./data.csv')\n",
    "dataset.head()"
   ]
  },
  {
   "cell_type": "code",
   "execution_count": 3,
   "metadata": {},
   "outputs": [
    {
     "data": {
      "text/plain": [
       "pandas.core.frame.DataFrame"
      ]
     },
     "execution_count": 3,
     "metadata": {},
     "output_type": "execute_result"
    }
   ],
   "source": [
    "type(dataset)"
   ]
  },
  {
   "cell_type": "code",
   "execution_count": 4,
   "metadata": {},
   "outputs": [],
   "source": [
    "dataset = np.array(dataset)"
   ]
  },
  {
   "cell_type": "code",
   "execution_count": 5,
   "metadata": {},
   "outputs": [
    {
     "data": {
      "text/plain": [
       "(99, 2)"
      ]
     },
     "execution_count": 5,
     "metadata": {},
     "output_type": "execute_result"
    }
   ],
   "source": [
    "dataset.shape"
   ]
  },
  {
   "cell_type": "code",
   "execution_count": 6,
   "metadata": {},
   "outputs": [
    {
     "data": {
      "text/plain": [
       "79"
      ]
     },
     "execution_count": 6,
     "metadata": {},
     "output_type": "execute_result"
    }
   ],
   "source": [
    "split_factor = 0.8\n",
    "split = int(split_factor * dataset.shape[0])\n",
    "split"
   ]
  },
  {
   "cell_type": "code",
   "execution_count": 7,
   "metadata": {},
   "outputs": [],
   "source": [
    "#Splitting dataset into train and test data\n",
    "X_train = dataset[:split,0]\n",
    "X_test = dataset[split:,0]\n",
    "y_train = dataset[:split,1]\n",
    "y_test = dataset[split:,1]"
   ]
  },
  {
   "cell_type": "code",
   "execution_count": 8,
   "metadata": {},
   "outputs": [
    {
     "name": "stdout",
     "output_type": "stream",
     "text": [
      "(79,)\n",
      "(20,)\n",
      "(79,)\n",
      "(20,)\n"
     ]
    }
   ],
   "source": [
    "print(X_train.shape)\n",
    "print(X_test.shape)\n",
    "print(y_train.shape)\n",
    "print(y_test.shape)"
   ]
  },
  {
   "cell_type": "code",
   "execution_count": 9,
   "metadata": {},
   "outputs": [],
   "source": [
    "def cost(X,y,m,c):\n",
    "    error = 0\n",
    "    for i in range(len(X)):\n",
    "        error += (y[i] - (m * X[i] + c)) ** 2\n",
    "    \n",
    "    return error / (2 * len(X))"
   ]
  },
  {
   "cell_type": "code",
   "execution_count": 10,
   "metadata": {},
   "outputs": [],
   "source": [
    "def step_gradient(X,y,m,c,lr):\n",
    "    slope = 0\n",
    "    intercept = 0\n",
    "    for i in range(len(X)):\n",
    "        slope += (1/len(X)) * (y[i] - (m * X[i] + c)) * X[i]\n",
    "        intercept += (1/len(X)) * (y[i] - (m * X[i] + c))\n",
    "    \n",
    "    m += lr * slope\n",
    "    c += lr * intercept\n",
    "    return [m,c]"
   ]
  },
  {
   "cell_type": "code",
   "execution_count": 11,
   "metadata": {},
   "outputs": [],
   "source": [
    "def gradient(X,y,m,c,lr,num_steps):\n",
    "    for i in range(num_steps):\n",
    "        m,c = step_gradient(X,y,m,c,lr)\n",
    "        if(i%100 == 0):\n",
    "            error = cost(X,y,m,c)\n",
    "            print(\"error after {} iterations {}\".format(i,error))\n",
    "    \n",
    "    return [m,c]"
   ]
  },
  {
   "cell_type": "code",
   "execution_count": 12,
   "metadata": {},
   "outputs": [],
   "source": [
    "def run(X,y,num_steps = 1000):\n",
    "    learning_rate = 0.0001\n",
    "    error = 0\n",
    "    m = 0\n",
    "    c = 0\n",
    "    m,c = gradient(X,y,m,c,learning_rate,num_steps)\n",
    "    error = cost(X,y,m,c)\n",
    "    \n",
    "    return [m,c,error]"
   ]
  },
  {
   "cell_type": "code",
   "execution_count": 13,
   "metadata": {},
   "outputs": [
    {
     "name": "stdout",
     "output_type": "stream",
     "text": [
      "error after 0 iterations 1558.238214606866\n",
      "error after 100 iterations 56.73454658378947\n",
      "error after 200 iterations 56.73396968364215\n",
      "error after 300 iterations 56.73339318382789\n",
      "error after 400 iterations 56.73281708406897\n",
      "error after 500 iterations 56.73224138408767\n",
      "error after 600 iterations 56.73166608360669\n",
      "error after 700 iterations 56.73109118234875\n",
      "error after 800 iterations 56.730516680036736\n",
      "error after 900 iterations 56.72994257639392\n"
     ]
    }
   ],
   "source": [
    "m,c,error = run(X_train,y_train)"
   ]
  },
  {
   "cell_type": "code",
   "execution_count": 14,
   "metadata": {},
   "outputs": [
    {
     "name": "stdout",
     "output_type": "stream",
     "text": [
      "slope : 1.4621003153751813\n",
      "intercept : 0.052819936484252684\n",
      "error : 56.729374606224994\n"
     ]
    }
   ],
   "source": [
    "print(\"slope : {}\".format(m))\n",
    "print(\"intercept : {}\".format(c))\n",
    "print(\"error : {}\".format(error))"
   ]
  },
  {
   "cell_type": "code",
   "execution_count": 15,
   "metadata": {},
   "outputs": [
    {
     "data": {
      "text/plain": [
       "(20,)"
      ]
     },
     "execution_count": 15,
     "metadata": {},
     "output_type": "execute_result"
    }
   ],
   "source": [
    "y_pred = m * X_test + c\n",
    "y_pred.shape"
   ]
  },
  {
   "cell_type": "code",
   "execution_count": 16,
   "metadata": {},
   "outputs": [
    {
     "data": {
      "text/plain": [
       "[<matplotlib.lines.Line2D at 0x7fb8d8adf0f0>]"
      ]
     },
     "execution_count": 16,
     "metadata": {},
     "output_type": "execute_result"
    },
    {
     "data": {
      "image/png": "[encoded data removed]",
      "text/plain": [
       "<Figure size 432x288 with 1 Axes>"
      ]
     },
     "metadata": {
      "needs_background": "light"
     },
     "output_type": "display_data"
    }
   ],
   "source": [
    "plt.scatter(X_test,y_test)\n",
    "plt.plot(X_test,y_pred,'r')"
   ]
  },
  {
   "cell_type": "code",
   "execution_count": null,
   "metadata": {},
   "outputs": [],
   "source": []
  }
 ],
 "metadata": {
  "kernelspec": {
   "display_name": "Python 3",
   "language": "python",
   "name": "python3"
  },
  "language_info": {
   "codemirror_mode": {
    "name": "ipython",
    "version": 3
   },
   "file_extension": ".py",
   "mimetype": "text/x-python",
   "name": "python",
   "nbconvert_exporter": "python",
   "pygments_lexer": "ipython3",
   "version": "3.5.2"
  }
 },
 "nbformat": 4,
 "nbformat_minor": 2
}
