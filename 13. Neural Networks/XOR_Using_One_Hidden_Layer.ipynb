{
 "cells": [
  {
   "cell_type": "code",
   "execution_count": 1,
   "metadata": {},
   "outputs": [],
   "source": [
    "import numpy as np\n",
    "import pandas as pd\n",
    "import matplotlib.pyplot as plt\n",
    "\n",
    "%matplotlib inline"
   ]
  },
  {
   "cell_type": "code",
   "execution_count": 2,
   "metadata": {},
   "outputs": [],
   "source": [
    "X = [[0,0,0],\n",
    "     [0,0,1],\n",
    "     [0,1,0],\n",
    "     [0,1,1],\n",
    "     [1,0,0],\n",
    "     [1,0,1],\n",
    "     [1,1,0],\n",
    "     [1,1,1]]\n",
    "\n",
    "Y = [0,1,1,1,1,1,1,0]\n",
    "\n",
    "X = np.array(X)\n",
    "Y = np.array(Y)"
   ]
  },
  {
   "cell_type": "code",
   "execution_count": 3,
   "metadata": {},
   "outputs": [
    {
     "data": {
      "text/plain": [
       "(8, 3)"
      ]
     },
     "execution_count": 3,
     "metadata": {},
     "output_type": "execute_result"
    }
   ],
   "source": [
    "X.shape"
   ]
  },
  {
   "cell_type": "code",
   "execution_count": 4,
   "metadata": {},
   "outputs": [
    {
     "data": {
      "text/plain": [
       "(8,)"
      ]
     },
     "execution_count": 4,
     "metadata": {},
     "output_type": "execute_result"
    }
   ],
   "source": [
    "Y.shape"
   ]
  },
  {
   "cell_type": "code",
   "execution_count": 5,
   "metadata": {},
   "outputs": [
    {
     "name": "stdout",
     "output_type": "stream",
     "text": [
      "[0 1 1 1 1 1 1 0]\n"
     ]
    }
   ],
   "source": [
    "print(Y)"
   ]
  },
  {
   "cell_type": "code",
   "execution_count": 6,
   "metadata": {},
   "outputs": [
    {
     "data": {
      "text/plain": [
       "<matplotlib.collections.PathCollection at 0x26372902c18>"
      ]
     },
     "execution_count": 6,
     "metadata": {},
     "output_type": "execute_result"
    },
    {
     "data": {
      "image/png": "[encoded data removed]",
      "text/plain": [
       "<Figure size 432x288 with 1 Axes>"
      ]
     },
     "metadata": {},
     "output_type": "display_data"
    }
   ],
   "source": [
    "plt.scatter(X[:,0],X[:,1],c=Y)"
   ]
  },
  {
   "cell_type": "code",
   "execution_count": 7,
   "metadata": {},
   "outputs": [],
   "source": [
    "def sigmoid(z):\n",
    "    return 1/(1 + np.exp(-z))\n",
    "\n",
    "def derivative_sigmoid(z):\n",
    "    return sigmoid(z) * (1 - sigmoid(z))"
   ]
  },
  {
   "cell_type": "code",
   "execution_count": 8,
   "metadata": {},
   "outputs": [
    {
     "name": "stdout",
     "output_type": "stream",
     "text": [
      "0.9525741268224334\n",
      "0.045176659730912\n"
     ]
    }
   ],
   "source": [
    "print(sigmoid(3))\n",
    "print(derivative_sigmoid(3))"
   ]
  },
  {
   "cell_type": "code",
   "execution_count": 9,
   "metadata": {},
   "outputs": [],
   "source": [
    "def layer_size(X,Y):\n",
    "    \n",
    "    n_x = X.shape[1]\n",
    "    n_h = 4\n",
    "    n_y = 1\n",
    "    \n",
    "    return (n_x,n_h,n_y)"
   ]
  },
  {
   "cell_type": "code",
   "execution_count": 10,
   "metadata": {},
   "outputs": [],
   "source": [
    "def initialize_parameters(n_x,n_h,n_y):\n",
    "    \n",
    "    W1 = np.random.randn(n_h,n_x) \n",
    "    b1 = np.zeros((n_h,1))\n",
    "    W2 = np.random.randn(n_y,n_h)\n",
    "    b2 = np.zeros((n_y,1))\n",
    "    \n",
    "    parameters = {\"W1\":W1,\n",
    "                  \"b1\":b1,\n",
    "                  \"W2\":W2,\n",
    "                  \"b2\":b2}\n",
    "    \n",
    "    return parameters"
   ]
  },
  {
   "cell_type": "code",
   "execution_count": 11,
   "metadata": {},
   "outputs": [],
   "source": [
    "def forward_propagation(X,parameters):\n",
    "    W1 = parameters[\"W1\"]\n",
    "    b1 = parameters[\"b1\"]\n",
    "    W2 = parameters[\"W2\"]\n",
    "    b2 = parameters[\"b2\"]\n",
    "    \n",
    "    Z1 = np.dot(W1,X.T) + b1\n",
    "    A1 = sigmoid(Z1)\n",
    "    Z2 = np.dot(W2,A1) + b2\n",
    "    A2 = sigmoid(Z2)\n",
    "    \n",
    "    cache = {\"Z1\":Z1,\n",
    "             \"A1\":A1,\n",
    "             \"Z2\":Z2,\n",
    "             \"A2\":A2}\n",
    "    \n",
    "    return cache"
   ]
  },
  {
   "cell_type": "code",
   "execution_count": 12,
   "metadata": {},
   "outputs": [],
   "source": [
    "def compute_cost(A2,Y):\n",
    "    m = Y.shape[0]\n",
    "    \n",
    "    logprobs = np.multiply(Y,np.log(A2)) + np.multiply((1-Y),np.log(1-A2))\n",
    "    \n",
    "    cost = (-1/m) * np.sum(logprobs)\n",
    "    \n",
    "    cost = np.squeeze(cost)\n",
    "    \n",
    "    return cost"
   ]
  },
  {
   "cell_type": "code",
   "execution_count": 13,
   "metadata": {},
   "outputs": [],
   "source": [
    "def backpropagation(parameters,cache,X,Y):\n",
    "    m = X.shape[0]\n",
    "    \n",
    "    W1 = parameters[\"W1\"]\n",
    "    W2 = parameters[\"W2\"]\n",
    "    \n",
    "    A1 = cache[\"A1\"]\n",
    "    A2 = cache[\"A2\"]\n",
    "    Z1 = cache[\"Z1\"]\n",
    "    Z2 = cache[\"Z2\"]\n",
    "    \n",
    "    dZ2 = A2 - Y\n",
    "    dW2 = (1/m) * np.dot(dZ2,A1.T)\n",
    "    db2 = (1/m) * np.sum(dZ2,axis=1,keepdims=True)\n",
    "    dZ1 = np.multiply(np.dot(W2.T,dZ2) , derivative_sigmoid(Z1))\n",
    "    dW1 = (1/m) * np.dot(dZ1,X)\n",
    "    db1 = (1/m) * np.sum(dZ1,axis=1,keepdims=True)\n",
    "    \n",
    "    grads = {\"dW2\":dW2,\n",
    "             \"db2\":db2,\n",
    "             \"dW1\":dW1,\n",
    "             \"db1\":db1}\n",
    "    \n",
    "    return grads"
   ]
  },
  {
   "cell_type": "code",
   "execution_count": 14,
   "metadata": {},
   "outputs": [],
   "source": [
    "def update_parameters(parameters,grads,learning_rate=0.01):\n",
    "     W1 = parameters[\"W1\"]\n",
    "     b1 = parameters[\"b1\"]\n",
    "     W2 = parameters[\"W2\"]\n",
    "     b2 = parameters[\"b2\"]\n",
    "    \n",
    "     dW1 = grads[\"dW1\"]\n",
    "     db1 = grads[\"db1\"]\n",
    "     dW2 = grads[\"dW2\"]\n",
    "     db2 = grads[\"db2\"]\n",
    "    \n",
    "     W1 = W1 - learning_rate * dW1\n",
    "     b1 = b1 - learning_rate * db1\n",
    "     W2 = W2 - learning_rate * dW2\n",
    "     b2 = b2 - learning_rate * db2\n",
    "    \n",
    "     parameters = {\"W1\":W1,\n",
    "                  \"b1\":b1,\n",
    "                  \"W2\":W2,\n",
    "                  \"b2\":b2}\n",
    "    \n",
    "     return parameters"
   ]
  },
  {
   "cell_type": "code",
   "execution_count": 15,
   "metadata": {},
   "outputs": [],
   "source": [
    "def nn_model(X,Y,n_h=4,num_iterations=100000,learning_rate=0.01,print_cost=True):\n",
    "    \n",
    "    n_x = layer_size(X,Y)[0]\n",
    "    n_y = layer_size(X,Y)[2]\n",
    "    parameters = initialize_parameters(n_x,n_h,n_y)\n",
    "    W1 = parameters[\"W1\"]\n",
    "    b1 = parameters[\"b1\"]\n",
    "    W2 = parameters[\"W2\"]\n",
    "    b2 = parameters[\"b2\"]\n",
    "    \n",
    "    for i in range(num_iterations + 1):\n",
    "        cache = forward_propagation(X,parameters)\n",
    "        \n",
    "        cost = compute_cost(cache[\"A2\"] , Y)\n",
    "        \n",
    "        grads = backpropagation(parameters,cache,X,Y)\n",
    "        \n",
    "        parameters = update_parameters(parameters,grads,learning_rate)\n",
    "            \n",
    "        if print_cost and i%10000 == 0:\n",
    "            print(\"cost after %i iterations %f\" %(i,cost))\n",
    "        \n",
    "    return parameters"
   ]
  },
  {
   "cell_type": "code",
   "execution_count": 16,
   "metadata": {},
   "outputs": [
    {
     "name": "stdout",
     "output_type": "stream",
     "text": [
      "cost after 0 iterations 1.013704\n",
      "cost after 10000 iterations 0.533806\n",
      "cost after 20000 iterations 0.442082\n",
      "cost after 30000 iterations 0.307877\n",
      "cost after 40000 iterations 0.197006\n",
      "cost after 50000 iterations 0.121077\n",
      "cost after 60000 iterations 0.077174\n",
      "cost after 70000 iterations 0.052957\n",
      "cost after 80000 iterations 0.039227\n",
      "cost after 90000 iterations 0.030817\n",
      "cost after 100000 iterations 0.025254\n"
     ]
    }
   ],
   "source": [
    "parameters = nn_model(X,Y)"
   ]
  },
  {
   "cell_type": "code",
   "execution_count": 17,
   "metadata": {},
   "outputs": [
    {
     "name": "stdout",
     "output_type": "stream",
     "text": [
      "{'W1': array([[ 2.61049655, -6.8434689 ,  2.81413376],\n",
      "       [ 5.2513263 ,  5.37242233,  5.18059983],\n",
      "       [ 3.88575848, -1.1860015 ,  3.56018373],\n",
      "       [ 1.21999786, -0.51228868, -2.09252676]]), 'b1': array([[-2.39106599],\n",
      "       [-2.82728733],\n",
      "       [-4.18960392],\n",
      "       [-0.59373022]]), 'W2': array([[ 7.41866396,  9.44675051, -8.70773554,  1.45086828]]), 'b2': array([[-4.71581315]])}\n"
     ]
    }
   ],
   "source": [
    "print(parameters)"
   ]
  },
  {
   "cell_type": "code",
   "execution_count": 18,
   "metadata": {},
   "outputs": [],
   "source": [
    "def predict(X,parameters):\n",
    "    cache = forward_propagation(X,parameters)\n",
    "    \n",
    "    y_pred = cache[\"A2\"]\n",
    "    y_pred = np.round(y_pred)\n",
    "    \n",
    "    return y_pred"
   ]
  },
  {
   "cell_type": "code",
   "execution_count": 19,
   "metadata": {},
   "outputs": [
    {
     "name": "stdout",
     "output_type": "stream",
     "text": [
      "[[0.]]\n"
     ]
    }
   ],
   "source": [
    "print(predict(np.array([[1,1,1]]),parameters))"
   ]
  },
  {
   "cell_type": "code",
   "execution_count": null,
   "metadata": {},
   "outputs": [],
   "source": []
  }
 ],
 "metadata": {
  "kernelspec": {
   "display_name": "Python 3",
   "language": "python",
   "name": "python3"
  },
  "language_info": {
   "codemirror_mode": {
    "name": "ipython",
    "version": 3
   },
   "file_extension": ".py",
   "mimetype": "text/x-python",
   "name": "python",
   "nbconvert_exporter": "python",
   "pygments_lexer": "ipython3",
   "version": "3.6.6"
  }
 },
 "nbformat": 4,
 "nbformat_minor": 2
}
