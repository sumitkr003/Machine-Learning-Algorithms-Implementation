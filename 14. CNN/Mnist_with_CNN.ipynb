{
  "nbformat": 4,
  "nbformat_minor": 0,
  "metadata": {
    "colab": {
      "name": "Mnist with CNN.ipynb",
      "version": "0.3.2",
      "provenance": []
    },
    "kernelspec": {
      "name": "python3",
      "display_name": "Python 3"
    },
    "accelerator": "GPU"
  },
  "cells": [
    {
      "metadata": {
        "id": "wpVq2dXC_GaR",
        "colab_type": "code",
        "colab": {}
      },
      "cell_type": "code",
      "source": [
        "import tensorflow as tf"
      ],
      "execution_count": 0,
      "outputs": []
    },
    {
      "metadata": {
        "id": "ivafCK_z_KwI",
        "colab_type": "code",
        "colab": {}
      },
      "cell_type": "code",
      "source": [
        "from tensorflow.examples.tutorials.mnist import input_data"
      ],
      "execution_count": 0,
      "outputs": []
    },
    {
      "metadata": {
        "id": "5V8BJzh7__rb",
        "colab_type": "code",
        "colab": {
          "base_uri": "https://localhost:8080/",
          "height": 530
        },
        "outputId": "030b79a7-b0b4-47d7-9135-32a699e51ff6"
      },
      "cell_type": "code",
      "source": [
        "mnist = input_data.read_data_sets(\"MNIST_data/\",one_hot=True)"
      ],
      "execution_count": 3,
      "outputs": [
        {
          "output_type": "stream",
          "text": [
            "WARNING:tensorflow:From <ipython-input-3-758d29429358>:1: read_data_sets (from tensorflow.contrib.learn.python.learn.datasets.mnist) is deprecated and will be removed in a future version.\n",
            "Instructions for updating:\n",
            "Please use alternatives such as official/mnist/dataset.py from tensorflow/models.\n",
            "WARNING:tensorflow:From /usr/local/lib/python3.6/dist-packages/tensorflow/contrib/learn/python/learn/datasets/mnist.py:260: maybe_download (from tensorflow.contrib.learn.python.learn.datasets.base) is deprecated and will be removed in a future version.\n",
            "Instructions for updating:\n",
            "Please write your own downloading logic.\n",
            "WARNING:tensorflow:From /usr/local/lib/python3.6/dist-packages/tensorflow/contrib/learn/python/learn/datasets/base.py:252: _internal_retry.<locals>.wrap.<locals>.wrapped_fn (from tensorflow.contrib.learn.python.learn.datasets.base) is deprecated and will be removed in a future version.\n",
            "Instructions for updating:\n",
            "Please use urllib or similar directly.\n",
            "Successfully downloaded train-images-idx3-ubyte.gz 9912422 bytes.\n",
            "WARNING:tensorflow:From /usr/local/lib/python3.6/dist-packages/tensorflow/contrib/learn/python/learn/datasets/mnist.py:262: extract_images (from tensorflow.contrib.learn.python.learn.datasets.mnist) is deprecated and will be removed in a future version.\n",
            "Instructions for updating:\n",
            "Please use tf.data to implement this functionality.\n",
            "Extracting MNIST_data/train-images-idx3-ubyte.gz\n",
            "Successfully downloaded train-labels-idx1-ubyte.gz 28881 bytes.\n",
            "WARNING:tensorflow:From /usr/local/lib/python3.6/dist-packages/tensorflow/contrib/learn/python/learn/datasets/mnist.py:267: extract_labels (from tensorflow.contrib.learn.python.learn.datasets.mnist) is deprecated and will be removed in a future version.\n",
            "Instructions for updating:\n",
            "Please use tf.data to implement this functionality.\n",
            "Extracting MNIST_data/train-labels-idx1-ubyte.gz\n",
            "WARNING:tensorflow:From /usr/local/lib/python3.6/dist-packages/tensorflow/contrib/learn/python/learn/datasets/mnist.py:110: dense_to_one_hot (from tensorflow.contrib.learn.python.learn.datasets.mnist) is deprecated and will be removed in a future version.\n",
            "Instructions for updating:\n",
            "Please use tf.one_hot on tensors.\n",
            "Successfully downloaded t10k-images-idx3-ubyte.gz 1648877 bytes.\n",
            "Extracting MNIST_data/t10k-images-idx3-ubyte.gz\n",
            "Successfully downloaded t10k-labels-idx1-ubyte.gz 4542 bytes.\n",
            "Extracting MNIST_data/t10k-labels-idx1-ubyte.gz\n",
            "WARNING:tensorflow:From /usr/local/lib/python3.6/dist-packages/tensorflow/contrib/learn/python/learn/datasets/mnist.py:290: DataSet.__init__ (from tensorflow.contrib.learn.python.learn.datasets.mnist) is deprecated and will be removed in a future version.\n",
            "Instructions for updating:\n",
            "Please use alternatives such as official/mnist/dataset.py from tensorflow/models.\n"
          ],
          "name": "stdout"
        }
      ]
    },
    {
      "metadata": {
        "id": "gx0kZeuMAJNP",
        "colab_type": "code",
        "colab": {}
      },
      "cell_type": "code",
      "source": [
        "def init_weights(shape):\n",
        "  init_random_dist = tf.truncated_normal(shape,stddev=0.1)\n",
        "  return tf.Variable(init_random_dist)"
      ],
      "execution_count": 0,
      "outputs": []
    },
    {
      "metadata": {
        "id": "gyAiYh5mAdUg",
        "colab_type": "code",
        "colab": {}
      },
      "cell_type": "code",
      "source": [
        "def init_bias(shape):\n",
        "  init_bias_vals = tf.constant(0.1,shape=shape)\n",
        "  return tf.Variable(init_bias_vals)"
      ],
      "execution_count": 0,
      "outputs": []
    },
    {
      "metadata": {
        "id": "rzSRojh-ArJw",
        "colab_type": "code",
        "colab": {}
      },
      "cell_type": "code",
      "source": [
        "def conv2d(x,W):\n",
        "  return tf.nn.conv2d(x,W,strides=[1,1,1,1],padding='SAME')"
      ],
      "execution_count": 0,
      "outputs": []
    },
    {
      "metadata": {
        "id": "YoyylXe3BCUR",
        "colab_type": "code",
        "colab": {}
      },
      "cell_type": "code",
      "source": [
        "def max_pool_2by2(x):\n",
        "  return tf.nn.max_pool(x, ksize=[1,2,2,1],strides=[1,2,2,1],padding='SAME')"
      ],
      "execution_count": 0,
      "outputs": []
    },
    {
      "metadata": {
        "id": "XlTgy-qiBSmw",
        "colab_type": "code",
        "colab": {}
      },
      "cell_type": "code",
      "source": [
        "def convolutional_layer(input_x , shape):\n",
        "  W = init_weights(shape)\n",
        "  b = init_bias([shape[3]])\n",
        "  return tf.nn.relu(conv2d(input_x , W) + b)"
      ],
      "execution_count": 0,
      "outputs": []
    },
    {
      "metadata": {
        "id": "oAknKADKBrvZ",
        "colab_type": "code",
        "colab": {}
      },
      "cell_type": "code",
      "source": [
        "def normal_full_layer(input_layer , size):\n",
        "  input_size = int(input_layer.get_shape()[1])\n",
        "  W = init_weights([input_size, size])\n",
        "  b = init_bias([size])\n",
        "  return tf.matmul(input_layer,W) + b"
      ],
      "execution_count": 0,
      "outputs": []
    },
    {
      "metadata": {
        "id": "KwfqjyDeCIPZ",
        "colab_type": "code",
        "colab": {}
      },
      "cell_type": "code",
      "source": [
        "#placeholders\n",
        "\n",
        "x = tf.placeholder(tf.float32,shape=[None,784])\n",
        "y_true = tf.placeholder(tf.float32,shape=[None,10])"
      ],
      "execution_count": 0,
      "outputs": []
    },
    {
      "metadata": {
        "id": "eQp-CEmUCVnB",
        "colab_type": "code",
        "colab": {}
      },
      "cell_type": "code",
      "source": [
        "x_image = tf.reshape(x,[-1,28,28,1])"
      ],
      "execution_count": 0,
      "outputs": []
    },
    {
      "metadata": {
        "id": "UbS1lN2CCafz",
        "colab_type": "code",
        "colab": {}
      },
      "cell_type": "code",
      "source": [
        "convo_1 = convolutional_layer(x_image,shape=[6,6,1,32])\n",
        "convo_1_pooling = max_pool_2by2(convo_1)"
      ],
      "execution_count": 0,
      "outputs": []
    },
    {
      "metadata": {
        "id": "aDU8pp1qCoGb",
        "colab_type": "code",
        "colab": {}
      },
      "cell_type": "code",
      "source": [
        "convo_2 = convolutional_layer(convo_1_pooling,shape=[6,6,32,64])\n",
        "convo_2_pooling = max_pool_2by2(convo_2)"
      ],
      "execution_count": 0,
      "outputs": []
    },
    {
      "metadata": {
        "id": "Fn7GZ1GODEqQ",
        "colab_type": "code",
        "colab": {}
      },
      "cell_type": "code",
      "source": [
        "convo_2_flat = tf.reshape(convo_2_pooling,[-1,7*7*64])\n",
        "full_layer_one = tf.nn.relu(normal_full_layer(convo_2_flat,1024))"
      ],
      "execution_count": 0,
      "outputs": []
    },
    {
      "metadata": {
        "id": "p7vITJmkDY4Z",
        "colab_type": "code",
        "colab": {}
      },
      "cell_type": "code",
      "source": [
        "hold_prob = tf.placeholder(tf.float32)\n",
        "full_one_dropout = tf.nn.dropout(full_layer_one,keep_prob=hold_prob)"
      ],
      "execution_count": 0,
      "outputs": []
    },
    {
      "metadata": {
        "id": "f_clE2kBDs9C",
        "colab_type": "code",
        "colab": {}
      },
      "cell_type": "code",
      "source": [
        "y_pred = normal_full_layer(full_one_dropout,10)"
      ],
      "execution_count": 0,
      "outputs": []
    },
    {
      "metadata": {
        "id": "jtwVZHJWDz5U",
        "colab_type": "code",
        "colab": {
          "base_uri": "https://localhost:8080/",
          "height": 173
        },
        "outputId": "b33e0391-e967-49ba-d6c6-5a5b6e479d61"
      },
      "cell_type": "code",
      "source": [
        "cross_entropy = tf.reduce_mean(tf.nn.softmax_cross_entropy_with_logits(labels=y_true,logits=y_pred))"
      ],
      "execution_count": 21,
      "outputs": [
        {
          "output_type": "stream",
          "text": [
            "WARNING:tensorflow:From <ipython-input-21-e0c07892321c>:1: softmax_cross_entropy_with_logits (from tensorflow.python.ops.nn_ops) is deprecated and will be removed in a future version.\n",
            "Instructions for updating:\n",
            "\n",
            "Future major versions of TensorFlow will allow gradients to flow\n",
            "into the labels input on backprop by default.\n",
            "\n",
            "See @{tf.nn.softmax_cross_entropy_with_logits_v2}.\n",
            "\n"
          ],
          "name": "stdout"
        }
      ]
    },
    {
      "metadata": {
        "id": "F0DXUMgWEFlN",
        "colab_type": "code",
        "colab": {}
      },
      "cell_type": "code",
      "source": [
        "optimizer = tf.train.AdamOptimizer(learning_rate=0.0001)\n",
        "train = optimizer.minimize(cross_entropy)"
      ],
      "execution_count": 0,
      "outputs": []
    },
    {
      "metadata": {
        "id": "MzrgraOFEgXs",
        "colab_type": "code",
        "colab": {}
      },
      "cell_type": "code",
      "source": [
        "init = tf.global_variables_initializer()"
      ],
      "execution_count": 0,
      "outputs": []
    },
    {
      "metadata": {
        "id": "Thi93HZIEkqC",
        "colab_type": "code",
        "colab": {
          "base_uri": "https://localhost:8080/",
          "height": 4267
        },
        "outputId": "45347583-3de7-4bea-b0ec-ca481c0cfce4"
      },
      "cell_type": "code",
      "source": [
        "steps=5000\n",
        "\n",
        "with tf.Session() as sess:\n",
        "  \n",
        "  sess.run(init)\n",
        "  \n",
        "  for i in range(steps):\n",
        "    \n",
        "    batch_x , batch_y = mnist.train.next_batch(50)\n",
        "    \n",
        "    sess.run(train,feed_dict={x:batch_x,y_true:batch_y,hold_prob:0.5})\n",
        "    \n",
        "    if i%100 == 0:\n",
        "      \n",
        "      print('Currently on step {}'.format(i))\n",
        "      print('accuracy is:')\n",
        "      \n",
        "      matches = tf.equal(tf.argmax(y_pred,1) , tf.argmax(y_true,1))\n",
        "      \n",
        "      acc = tf.reduce_mean(tf.cast(matches,tf.float32))\n",
        "      \n",
        "      print(sess.run(acc,feed_dict={x:mnist.test.images,y_true:mnist.test.labels,hold_prob:1.0}))\n",
        "      \n",
        "      print('\\n')"
      ],
      "execution_count": 26,
      "outputs": [
        {
          "output_type": "stream",
          "text": [
            "Currently on step 0\n",
            "accuracy is:\n",
            "0.1075\n",
            "\n",
            "\n",
            "Currently on step 100\n",
            "accuracy is:\n",
            "0.8648\n",
            "\n",
            "\n",
            "Currently on step 200\n",
            "accuracy is:\n",
            "0.9129\n",
            "\n",
            "\n",
            "Currently on step 300\n",
            "accuracy is:\n",
            "0.9305\n",
            "\n",
            "\n",
            "Currently on step 400\n",
            "accuracy is:\n",
            "0.9314\n",
            "\n",
            "\n",
            "Currently on step 500\n",
            "accuracy is:\n",
            "0.9454\n",
            "\n",
            "\n",
            "Currently on step 600\n",
            "accuracy is:\n",
            "0.9516\n",
            "\n",
            "\n",
            "Currently on step 700\n",
            "accuracy is:\n",
            "0.9558\n",
            "\n",
            "\n",
            "Currently on step 800\n",
            "accuracy is:\n",
            "0.9598\n",
            "\n",
            "\n",
            "Currently on step 900\n",
            "accuracy is:\n",
            "0.959\n",
            "\n",
            "\n",
            "Currently on step 1000\n",
            "accuracy is:\n",
            "0.9629\n",
            "\n",
            "\n",
            "Currently on step 1100\n",
            "accuracy is:\n",
            "0.9672\n",
            "\n",
            "\n",
            "Currently on step 1200\n",
            "accuracy is:\n",
            "0.9699\n",
            "\n",
            "\n",
            "Currently on step 1300\n",
            "accuracy is:\n",
            "0.9694\n",
            "\n",
            "\n",
            "Currently on step 1400\n",
            "accuracy is:\n",
            "0.9727\n",
            "\n",
            "\n",
            "Currently on step 1500\n",
            "accuracy is:\n",
            "0.9704\n",
            "\n",
            "\n",
            "Currently on step 1600\n",
            "accuracy is:\n",
            "0.9733\n",
            "\n",
            "\n",
            "Currently on step 1700\n",
            "accuracy is:\n",
            "0.9739\n",
            "\n",
            "\n",
            "Currently on step 1800\n",
            "accuracy is:\n",
            "0.9749\n",
            "\n",
            "\n",
            "Currently on step 1900\n",
            "accuracy is:\n",
            "0.9751\n",
            "\n",
            "\n",
            "Currently on step 2000\n",
            "accuracy is:\n",
            "0.9759\n",
            "\n",
            "\n",
            "Currently on step 2100\n",
            "accuracy is:\n",
            "0.9777\n",
            "\n",
            "\n",
            "Currently on step 2200\n",
            "accuracy is:\n",
            "0.9775\n",
            "\n",
            "\n",
            "Currently on step 2300\n",
            "accuracy is:\n",
            "0.9789\n",
            "\n",
            "\n",
            "Currently on step 2400\n",
            "accuracy is:\n",
            "0.9803\n",
            "\n",
            "\n",
            "Currently on step 2500\n",
            "accuracy is:\n",
            "0.9799\n",
            "\n",
            "\n",
            "Currently on step 2600\n",
            "accuracy is:\n",
            "0.9796\n",
            "\n",
            "\n",
            "Currently on step 2700\n",
            "accuracy is:\n",
            "0.9798\n",
            "\n",
            "\n",
            "Currently on step 2800\n",
            "accuracy is:\n",
            "0.9819\n",
            "\n",
            "\n",
            "Currently on step 2900\n",
            "accuracy is:\n",
            "0.9807\n",
            "\n",
            "\n",
            "Currently on step 3000\n",
            "accuracy is:\n",
            "0.9823\n",
            "\n",
            "\n",
            "Currently on step 3100\n",
            "accuracy is:\n",
            "0.9838\n",
            "\n",
            "\n",
            "Currently on step 3200\n",
            "accuracy is:\n",
            "0.982\n",
            "\n",
            "\n",
            "Currently on step 3300\n",
            "accuracy is:\n",
            "0.9823\n",
            "\n",
            "\n",
            "Currently on step 3400\n",
            "accuracy is:\n",
            "0.9849\n",
            "\n",
            "\n",
            "Currently on step 3500\n",
            "accuracy is:\n",
            "0.9846\n",
            "\n",
            "\n",
            "Currently on step 3600\n",
            "accuracy is:\n",
            "0.9831\n",
            "\n",
            "\n",
            "Currently on step 3700\n",
            "accuracy is:\n",
            "0.9837\n",
            "\n",
            "\n",
            "Currently on step 3800\n",
            "accuracy is:\n",
            "0.9841\n",
            "\n",
            "\n",
            "Currently on step 3900\n",
            "accuracy is:\n",
            "0.984\n",
            "\n",
            "\n",
            "Currently on step 4000\n",
            "accuracy is:\n",
            "0.9857\n",
            "\n",
            "\n",
            "Currently on step 4100\n",
            "accuracy is:\n",
            "0.9849\n",
            "\n",
            "\n",
            "Currently on step 4200\n",
            "accuracy is:\n",
            "0.9855\n",
            "\n",
            "\n",
            "Currently on step 4300\n",
            "accuracy is:\n",
            "0.9865\n",
            "\n",
            "\n",
            "Currently on step 4400\n",
            "accuracy is:\n",
            "0.9866\n",
            "\n",
            "\n",
            "Currently on step 4500\n",
            "accuracy is:\n",
            "0.9854\n",
            "\n",
            "\n",
            "Currently on step 4600\n",
            "accuracy is:\n",
            "0.9872\n",
            "\n",
            "\n",
            "Currently on step 4700\n",
            "accuracy is:\n",
            "0.9874\n",
            "\n",
            "\n",
            "Currently on step 4800\n",
            "accuracy is:\n",
            "0.9849\n",
            "\n",
            "\n",
            "Currently on step 4900\n",
            "accuracy is:\n",
            "0.9859\n",
            "\n",
            "\n"
          ],
          "name": "stdout"
        }
      ]
    },
    {
      "metadata": {
        "id": "TUU94_2MF0wk",
        "colab_type": "code",
        "colab": {}
      },
      "cell_type": "code",
      "source": [
        ""
      ],
      "execution_count": 0,
      "outputs": []
    }
  ]
}