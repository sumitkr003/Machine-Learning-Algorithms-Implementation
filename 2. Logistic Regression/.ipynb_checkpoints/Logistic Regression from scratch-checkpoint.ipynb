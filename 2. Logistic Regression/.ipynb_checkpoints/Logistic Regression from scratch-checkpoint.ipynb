{
 "cells": [
  {
   "cell_type": "code",
   "execution_count": 1,
   "metadata": {},
   "outputs": [],
   "source": [
    "import numpy as np\n",
    "import matplotlib.pyplot as plt\n",
    "\n",
    "%matplotlib inline"
   ]
  },
  {
   "cell_type": "code",
   "execution_count": 2,
   "metadata": {},
   "outputs": [
    {
     "name": "stdout",
     "output_type": "stream",
     "text": [
      "[0.1 0.2]\n",
      "[5.1 5.2]\n"
     ]
    }
   ],
   "source": [
    "mean_01 = np.array([0.1,0.2])\n",
    "mean_02 = np.array([5.1,5.2])\n",
    "\n",
    "print(mean_01)\n",
    "print(mean_02)"
   ]
  },
  {
   "cell_type": "code",
   "execution_count": 3,
   "metadata": {},
   "outputs": [],
   "source": [
    "cov_01 = np.array([[1.0,0.2],[0.2,1.1]])\n",
    "cov_02 = np.array([[1.0,0.3],[0.3,1.1]])\n",
    "\n",
    "dist_01 = np.random.multivariate_normal(mean_01,cov_01,500)\n",
    "dist_02 = np.random.multivariate_normal(mean_02,cov_02,500)"
   ]
  },
  {
   "cell_type": "code",
   "execution_count": 4,
   "metadata": {},
   "outputs": [
    {
     "data": {
      "text/plain": [
       "<matplotlib.collections.PathCollection at 0x7f0ca1aa2b38>"
      ]
     },
     "execution_count": 4,
     "metadata": {},
     "output_type": "execute_result"
    },
    {
     "data": {
      "image/png": "[encoded data removed]",
      "text/plain": [
       "<Figure size 432x288 with 1 Axes>"
      ]
     },
     "metadata": {
      "needs_background": "light"
     },
     "output_type": "display_data"
    }
   ],
   "source": [
    "plt.scatter(dist_01[:,0],dist_01[:,1],c='r')\n",
    "plt.scatter(dist_02[:,0],dist_02[:,1],c='b')"
   ]
  },
  {
   "cell_type": "code",
   "execution_count": 5,
   "metadata": {},
   "outputs": [
    {
     "name": "stdout",
     "output_type": "stream",
     "text": [
      "(1000, 3)\n"
     ]
    }
   ],
   "source": [
    "rows = dist_01.shape[0] + dist_02.shape[0]\n",
    "cols = dist_01.shape[1] + 1\n",
    "\n",
    "data = np.zeros((rows,cols))\n",
    "print(data.shape)\n",
    "\n",
    "data[:dist_01.shape[0],:dist_01.shape[1]] = dist_01\n",
    "data[dist_01.shape[0]:,:dist_01.shape[1]] = dist_02\n",
    "data[:dist_01.shape[0],-1] = 1"
   ]
  },
  {
   "cell_type": "code",
   "execution_count": 6,
   "metadata": {},
   "outputs": [
    {
     "data": {
      "text/plain": [
       "array([[ 6.6154235 ,  4.94470565,  0.        ],\n",
       "       [ 1.39529946,  1.42924532,  1.        ],\n",
       "       [ 4.1534194 ,  3.82269635,  0.        ],\n",
       "       [ 0.90891417,  1.18173762,  1.        ],\n",
       "       [ 1.28835129, -0.03252464,  1.        ],\n",
       "       [ 5.48154031,  5.28211385,  0.        ],\n",
       "       [ 6.24553393,  6.53302427,  0.        ],\n",
       "       [-1.63995456, -0.71294618,  1.        ],\n",
       "       [ 1.0133365 ,  1.05144803,  1.        ],\n",
       "       [ 0.29649685, -1.22376536,  1.        ]])"
      ]
     },
     "execution_count": 6,
     "metadata": {},
     "output_type": "execute_result"
    }
   ],
   "source": [
    "np.random.shuffle(data)\n",
    "\n",
    "data[:10]"
   ]
  },
  {
   "cell_type": "code",
   "execution_count": 7,
   "metadata": {},
   "outputs": [
    {
     "name": "stdout",
     "output_type": "stream",
     "text": [
      "(750, 2)\n",
      "(250, 2)\n",
      "(750,)\n",
      "(250,)\n"
     ]
    }
   ],
   "source": [
    "split_factor = 0.75\n",
    "split = int(data.shape[0] * split_factor)\n",
    "\n",
    "X_train = data[:split,:-1]\n",
    "X_test = data[split:,:-1]\n",
    "\n",
    "y_train = data[:split,-1]\n",
    "y_test = data[split:,-1]\n",
    "\n",
    "print(X_train.shape)\n",
    "print(X_test.shape)\n",
    "print(y_train.shape)\n",
    "print(y_test.shape)"
   ]
  },
  {
   "cell_type": "code",
   "execution_count": 8,
   "metadata": {},
   "outputs": [],
   "source": [
    "def sigmoid(z):\n",
    "    return 1.0/(1.0 + np.exp(-z))"
   ]
  },
  {
   "cell_type": "code",
   "execution_count": 9,
   "metadata": {},
   "outputs": [],
   "source": [
    "def hypothesis(x_sample,w,b):\n",
    "    h = (x_sample * w).sum() + b\n",
    "    return sigmoid(h)"
   ]
  },
  {
   "cell_type": "code",
   "execution_count": 10,
   "metadata": {},
   "outputs": [],
   "source": [
    "def cost(x,y_true,w,b):\n",
    "    err = 0\n",
    "    m = x.shape[0]\n",
    "    \n",
    "    for i in range(m):\n",
    "        if(y_true[i] == 1):\n",
    "            err += -1 * (np.log(hypothesis(x[i],w,b)))\n",
    "        else:\n",
    "            err += -1 * (np.log(1 - hypothesis(x[i],w,b)))\n",
    "    \n",
    "    err = err/m\n",
    "    return err"
   ]
  },
  {
   "cell_type": "code",
   "execution_count": 11,
   "metadata": {},
   "outputs": [],
   "source": [
    "def get_gradient(x,y_true,w,b):\n",
    "    \n",
    "    w_grad = np.zeros(w.shape[0])\n",
    "    b_grad = 0\n",
    "    \n",
    "    m = x.shape[0]\n",
    "    \n",
    "    for i in range(m):\n",
    "        w_grad += (hypothesis(x[i],w,b) - y_true[i]) * x[i]\n",
    "        b_grad += (hypothesis(x[i],w,b) - y_true[i])\n",
    "    \n",
    "    return [w_grad,b_grad]"
   ]
  },
  {
   "cell_type": "code",
   "execution_count": 12,
   "metadata": {},
   "outputs": [],
   "source": [
    "def optimiser(x,y_true,w,b,learning_rate=0.0001):\n",
    "    error = cost(x,y_true,w,b)\n",
    "    \n",
    "    w_grad,b_grad = get_gradient(x,y_true,w,b)\n",
    "    \n",
    "    w = w - learning_rate * w_grad\n",
    "    b = b - learning_rate * b_grad\n",
    "    \n",
    "    return [w,b,error]"
   ]
  },
  {
   "cell_type": "code",
   "execution_count": 13,
   "metadata": {},
   "outputs": [],
   "source": [
    "def logistic_regression(X_train,y_train,nb_epoch=200,learning_rate=0.0001):\n",
    "    loss = []\n",
    "    \n",
    "    W = np.random.rand(X_train.shape[1])\n",
    "    b = np.random.rand()\n",
    "    \n",
    "    for i in range(nb_epoch):\n",
    "        W,b,error = optimiser(X_train,y_train,W,b,learning_rate)\n",
    "        loss.append(error)\n",
    "    \n",
    "    return [W,b,loss]"
   ]
  },
  {
   "cell_type": "code",
   "execution_count": 14,
   "metadata": {},
   "outputs": [],
   "source": [
    "W,b,loss = logistic_regression(X_train,y_train)"
   ]
  },
  {
   "cell_type": "code",
   "execution_count": 15,
   "metadata": {},
   "outputs": [
    {
     "name": "stdout",
     "output_type": "stream",
     "text": [
      "W : [-0.5705414  -0.52816521]\n",
      "b : 1.9143771547875275\n"
     ]
    }
   ],
   "source": [
    "print(\"W : {}\".format(W))\n",
    "print(\"b : {}\".format(b))"
   ]
  },
  {
   "cell_type": "code",
   "execution_count": 16,
   "metadata": {},
   "outputs": [
    {
     "data": {
      "text/plain": [
       "[<matplotlib.lines.Line2D at 0x7f0ca1a1d780>]"
      ]
     },
     "execution_count": 16,
     "metadata": {},
     "output_type": "execute_result"
    },
    {
     "data": {
      "image/png": "[encoded data removed]",
      "text/plain": [
       "<Figure size 432x288 with 1 Axes>"
      ]
     },
     "metadata": {
      "needs_background": "light"
     },
     "output_type": "display_data"
    }
   ],
   "source": [
    "plt.plot(loss)"
   ]
  }
 ],
 "metadata": {
  "kernelspec": {
   "display_name": "Python 3",
   "language": "python",
   "name": "python3"
  },
  "language_info": {
   "codemirror_mode": {
    "name": "ipython",
    "version": 3
   },
   "file_extension": ".py",
   "mimetype": "text/x-python",
   "name": "python",
   "nbconvert_exporter": "python",
   "pygments_lexer": "ipython3",
   "version": "3.5.2"
  }
 },
 "nbformat": 4,
 "nbformat_minor": 2
}
